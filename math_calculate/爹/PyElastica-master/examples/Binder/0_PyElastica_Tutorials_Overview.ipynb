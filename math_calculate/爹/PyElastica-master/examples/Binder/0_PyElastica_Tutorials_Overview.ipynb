{
 "cells": [
  {
   "cell_type": "markdown",
   "metadata": {
    "pycharm": {
     "name": "#%% md\n"
    }
   },
   "source": [
    "# PyElastica Tutorials\n",
    "\n",
    "We have developed a number of different Jupyter notebook tutorials to explain how to use Elastica to simulate Cosserat rods in a number of different cases.  Thanks to BinderHub, you can run these tutorials in directly in your web browser without needing to first download and install PyElastica. \n",
    "\n",
    "We suggest beginning with the Timoshenko beam tutorial available [here](./1_Timoshenko_Beam.ipynb). It walks through how to set up and simulate a very simple Cossert rod model and explains the basics of how to use Elastica. \n",
    "<img src=\"../../assets/timoshenko_beam_figure.png\" alt=\"timoshenko_beam_figure\" style=\"width: 600px;\"/>\n",
    "\n",
    "After this, for a tutorial covering more complicated use cases of a single Cosserat rods, check out the slithering snake tutorial, available [here](./2_Slithering_Snake.ipynb). This tutorial covers a possible use case of Cosserat rods and shows how to post-process the simulation to get quantitative data about the system as well as visualize the output. \n",
    "\n",
    "<div style=\"text-align: center\">\n",
    "<video controls autoplay muted loop width=\"320\" src=\"../../assets/continuum_snake.mp4\" ></video>   \n",
    "</div>\n",
    "\n",
    "A list of all the available Jupyter notebook tutorials is [here](./). We are working to add more. If you think you have an interesting use case of Cosserat rods and Elastica and would like to showcase please make a pull request so we can add it! \n",
    "\n",
    "There are also a number of example Python scripts available [here](https://github.com/GazzolaLab/PyElastica/tree/master/examples) that cover convergence testing, parameter optimization and other more complex use cases. As a warning, these more complex cases take a much longer time to run. \n",
    "\n",
    "## More about PyElastica\n",
    "If you want to learn more bout PyElastica and Cosserat rods, visit the [project website](https://cosseratrods.org). Or visit the [PyElastica GitHub repo](https://github.com/GazzolaLab/PyElastica).\n",
    "\n",
    "## PyElastica Documentation\n",
    "Documentation of PyElastica is available online [here](https://docs.cosseratrods.org). There is also a getting started guide on the project website [here](https://cosseratrods.org/software/pyelastica).\n"
   ]
  },
  {
   "cell_type": "code",
   "execution_count": null,
   "metadata": {
    "pycharm": {
     "name": "#%%\n"
    }
   },
   "outputs": [],
   "source": []
  }
 ],
 "metadata": {
  "kernelspec": {
   "display_name": "Python 3",
   "language": "python",
   "name": "python3"
  },
  "language_info": {
   "codemirror_mode": {
    "name": "ipython",
    "version": 3
   },
   "file_extension": ".py",
   "mimetype": "text/x-python",
   "name": "python",
   "nbconvert_exporter": "python",
   "pygments_lexer": "ipython3",
   "version": "3.7.7"
  }
 },
 "nbformat": 4,
 "nbformat_minor": 2
}
